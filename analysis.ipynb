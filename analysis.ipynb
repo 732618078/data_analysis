{
 "cells": [
  {
   "cell_type": "code",
   "execution_count": 1,
   "metadata": {},
   "outputs": [],
   "source": [
    "import numpy as np\n",
    "import pandas as pd\n",
    "import matplotlib.pyplot as plt\n",
    "import seaborn as sns\n",
    "from sklearn.preprocessing import StandardScaler  #标准化\n",
    "from sklearn.model_selection import train_test_split  #数据集划分\n",
    "from imblearn.over_sampling import RandomOverSampler #不均衡数据过采样\n",
    "from sklearn.linear_model import Lasso, Ridge, ElasticNet, BayesianRidge\n",
    "from sklearn.tree import DecisionTreeRegressor\n",
    "from sklearn.svm import SVR\n",
    "from sklearn.neighbors import KNeighborsRegressor\n",
    "from sklearn.ensemble import RandomForestRegressor, AdaBoostRegressor, GradientBoostingRegressor\n",
    "from sklearn.model_selection import ShuffleSplit  #交叉验证\n",
    "from sklearn.model_selection import KFold  #交叉验证\n",
    "from sklearn.model_selection import GridSearchCV  #模型调参\n",
    "from sklearn.metrics import make_scorer  #构建模型评估\n",
    "from sklearn.metrics import mean_absolute_error  #均方误差\n",
    "from time import clock\n",
    "%matplotlib inline\n",
    "\n",
    "plt.rcParams['font.sans-serif'] = ['SimHei']\n",
    "plt.rcParams['axes.unicode_minus'] = False\n",
    "\n",
    "import os\n",
    "os.chdir(r'F:\\项目\\津南')\n",
    "\n",
    "import warnings\n",
    "warnings.filterwarnings('ignore')\n",
    "\n",
    "file1 = 'jinnan_round1_train_20181227.csv'"
   ]
  },
  {
   "cell_type": "code",
   "execution_count": 2,
   "metadata": {},
   "outputs": [
    {
     "name": "stdout",
     "output_type": "stream",
     "text": [
      "      nan_counts\n",
      "样本id           0\n",
      "A1             0\n",
      "A2          1354\n",
      "A3            42\n",
      "A4             0\n",
      "A5             0\n",
      "A6             0\n",
      "A7          1247\n",
      "A8          1247\n",
      "A9             0\n",
      "A10            0\n",
      "A11            0\n",
      "A12            0\n",
      "A13            0\n",
      "A14            0\n",
      "A15            0\n",
      "A16            0\n",
      "A17            0\n",
      "A18            0\n",
      "A19            0\n",
      "A20            0\n",
      "A21            3\n",
      "A22            0\n",
      "A23            3\n",
      "A24            1\n",
      "A25            0\n",
      "A26            2\n",
      "A27            0\n",
      "A28            0\n",
      "B1            10\n",
      "B2             2\n",
      "B3             2\n",
      "B4             0\n",
      "B5             1\n",
      "B6             0\n",
      "B7             0\n",
      "B8             1\n",
      "B9             0\n",
      "B10          244\n",
      "B11          849\n",
      "B12            1\n",
      "B13            1\n",
      "B14            0\n",
      "收率             0\n"
     ]
    }
   ],
   "source": [
    "df = pd.read_csv(file1, engine='python')\n",
    "columns = df.columns.tolist()\n",
    "\n",
    "# 查看缺失值样本\n",
    "nan_counts = []\n",
    "for n in columns:\n",
    "    df = df.copy()\n",
    "    nan_count = len(df[n][df[n].isnull()])\n",
    "    nan_counts.append(nan_count)\n",
    "    \n",
    "nan_counts = pd.DataFrame({'nan_counts':nan_counts},\n",
    "                          index=columns)\n",
    "describe = nan_counts.describe()\n",
    "print(nan_counts)"
   ]
  },
  {
   "cell_type": "code",
   "execution_count": 3,
   "metadata": {},
   "outputs": [
    {
     "name": "stdout",
     "output_type": "stream",
     "text": [
      "     nan_counts\n",
      "A2         1354\n",
      "A3           42\n",
      "A7         1247\n",
      "A8         1247\n",
      "B1           10\n",
      "B10         244\n",
      "B11         849\n"
     ]
    }
   ],
   "source": [
    "# 分析缺失值异常标签\n",
    "iqr = describe.loc['75%'] - describe.loc['25%']\n",
    "max = (describe.loc['75%'] + 3*iqr).values\n",
    "nan_label = nan_counts[nan_counts.values>max]\n",
    "print(nan_label)"
   ]
  },
  {
   "cell_type": "code",
   "execution_count": 4,
   "metadata": {},
   "outputs": [
    {
     "name": "stdout",
     "output_type": "stream",
     "text": [
      "A1      300.000\n",
      "A2      125.000\n",
      "A3      405.000\n",
      "A4      700.000\n",
      "A6       48.000\n",
      "A8       80.000\n",
      "A10     108.000\n",
      "A12     106.000\n",
      "A13       0.200\n",
      "A15     107.000\n",
      "A17     108.000\n",
      "A18       0.200\n",
      "A19     600.000\n",
      "A21      50.000\n",
      "A22       9.000\n",
      "A23       5.000\n",
      "A27      89.000\n",
      "B1      360.000\n",
      "B2        3.500\n",
      "B3        3.500\n",
      "B6      125.000\n",
      "B8       45.000\n",
      "B12    2400.000\n",
      "B13       0.150\n",
      "B14     480.000\n",
      "收率        1.066\n",
      "dtype: float64 A1     300.000\n",
      "A2     125.000\n",
      "A3     405.000\n",
      "A4     700.000\n",
      "A6       6.000\n",
      "A8      80.000\n",
      "A10     94.000\n",
      "A12     99.000\n",
      "A13      0.200\n",
      "A15    100.000\n",
      "A17    101.000\n",
      "A18      0.200\n",
      "A19   -100.000\n",
      "A21     50.000\n",
      "A22      9.000\n",
      "A23      5.000\n",
      "A27     61.000\n",
      "B1     290.000\n",
      "B2       3.500\n",
      "B3       3.500\n",
      "B6      20.000\n",
      "B8      45.000\n",
      "B12   -400.000\n",
      "B13      0.150\n",
      "B14    340.000\n",
      "收率       0.779\n",
      "dtype: float64\n"
     ]
    }
   ],
   "source": [
    "# 分析各标签正常值范围\n",
    "def analysis(f):\n",
    "    describe = f.describe()\n",
    "    iqr = describe.loc['75%'] - describe.loc['25%']\n",
    "    max = describe.loc['75%'] + 3*iqr\n",
    "    min = describe.loc['25%'] - 3*iqr\n",
    "    print(max, min)\n",
    "    \n",
    "analysis(df)"
   ]
  },
  {
   "cell_type": "code",
   "execution_count": 5,
   "metadata": {},
   "outputs": [],
   "source": [
    "# 分析各标签值统计\n",
    "# print(df['样本id'].value_counts())"
   ]
  },
  {
   "cell_type": "code",
   "execution_count": 6,
   "metadata": {},
   "outputs": [],
   "source": [
    "# 对有效标签缺失值填充\n",
    "df['A3'].fillna(df['A3'].mode().values[0], inplace=True)\n",
    "df['A8'].fillna(df['A8'].mode().values[0], inplace=True)\n",
    "df['A21'].fillna(df['A21'].mode().values[0], inplace=True)\n",
    "df['B1'].fillna(df['B1'].mode().values[0], inplace=True)\n",
    "df['B2'].fillna(df['B2'].mode().values[0], inplace=True)\n",
    "df['B8'].fillna(df['B8'].mode().values[0], inplace=True)\n",
    "df['B12'].fillna(df['B12'].mode().values[0], inplace=True)\n",
    "df['B13'].fillna(df['B13'].mode().values[0], inplace=True)"
   ]
  },
  {
   "cell_type": "code",
   "execution_count": 7,
   "metadata": {},
   "outputs": [],
   "source": [
    "# 删除异常值\n",
    "df = df[df['A17']!=89.0]\n",
    "df = df[df['A21']<=70.0]\n",
    "df = df[df['A22']!=3.5]\n",
    "df = df[df['B1']!=3.5]\n",
    "df = df[df['B14']!=40.0]"
   ]
  },
  {
   "cell_type": "code",
   "execution_count": 8,
   "metadata": {},
   "outputs": [],
   "source": [
    "# 筛选标签\n",
    "df = df[['A1', 'A3', 'A8', 'A10', 'A12', 'A15', 'A17', 'A19', 'A21', 'A22', 'A27', 'B1', 'B2', 'B6', 'B8', 'B12', 'B13', 'B14', '收率']]"
   ]
  },
  {
   "cell_type": "code",
   "execution_count": 9,
   "metadata": {},
   "outputs": [
    {
     "data": {
      "image/png": "[encoded data removed]",
      "text/plain": [
       "<Figure size 432x288 with 1 Axes>"
      ]
     },
     "metadata": {
      "needs_background": "light"
     },
     "output_type": "display_data"
    }
   ],
   "source": [
    "plt.figure(figsize=(6, 4))\n",
    "sns.distplot(df['收率'], bins = 20, rug=True)\n",
    "plt.grid(ls='--');"
   ]
  },
  {
   "cell_type": "code",
   "execution_count": 10,
   "metadata": {},
   "outputs": [],
   "source": [
    "# 标准化\n",
    "std_scale = StandardScaler()\n",
    "df_std = std_scale.fit_transform(df)\n",
    "\n",
    "X = df[['A1', 'A3', 'A8', 'A10', 'A12', 'A15', 'A17', 'A19', 'A21', 'A22', 'A27', 'B1', 'B2', 'B6', 'B8', 'B12', 'B13', 'B14']]\n",
    "y = df['收率']"
   ]
  },
  {
   "cell_type": "code",
   "execution_count": 11,
   "metadata": {},
   "outputs": [
    {
     "name": "stdout",
     "output_type": "stream",
     "text": [
      "Number transactions train dataset: 1111\n",
      "Number transactions test dataset: 278\n",
      "Number number of transactions: 1389\n"
     ]
    }
   ],
   "source": [
    "# 数据切分\n",
    "X_train, X_test, y_train, y_test = train_test_split(X, y, test_size=0.2, random_state=50)\n",
    "print('Number transactions train dataset:', X_train.shape[0])\n",
    "print('Number transactions test dataset:', len(X_test))\n",
    "print('Number number of transactions:',len(X_train)+len(X_test))"
   ]
  },
  {
   "cell_type": "code",
   "execution_count": 12,
   "metadata": {},
   "outputs": [
    {
     "name": "stdout",
     "output_type": "stream",
     "text": [
      "15687\n"
     ]
    }
   ],
   "source": [
    "# 过采样\n",
    "oversampler = RandomOverSampler(random_state=0)\n",
    "X_train, y_train = oversampler.fit_sample(X_train, y_train)\n",
    "print(len(X_train))"
   ]
  },
  {
   "cell_type": "code",
   "execution_count": 13,
   "metadata": {},
   "outputs": [],
   "source": [
    "# 评估\n",
    "def performance_metric(y_true, y_predict):\n",
    "    score = mean_absolute_error(y_true, y_predict)\n",
    "    return score"
   ]
  },
  {
   "cell_type": "code",
   "execution_count": 14,
   "metadata": {},
   "outputs": [],
   "source": [
    "# 交叉验证\n",
    "def fit_model_shuffle(X, y, model, *kwargs):\n",
    "    cv_sets = ShuffleSplit(n_splits=10, test_size=0.2, random_state=0)\n",
    "    model = model\n",
    "    params = kwargs[0]\n",
    "    scoring_fnc = make_scorer(performance_metric)\n",
    "    grid = GridSearchCV(model, param_grid=params, scoring=scoring_fnc, cv=cv_sets)\n",
    "    grid = grid.fit(X, y)\n",
    "    return grid.best_estimator_\n",
    "\n",
    "\n",
    "# def fit_model_k_fold(X, y, model, *kwargs):\n",
    "#     k_fold = KFold(n_splits=10)\n",
    "#     model = model\n",
    "#     params = kwargs[0]\n",
    "#     scoring_fnc = make_scorer(performance_metric)\n",
    "#     grid = GridSearchCV(model, param_grid=params, scoring=scoring_fnc, cv=k_fold)\n",
    "#     grid = grid.fit(X, y)\n",
    "#     return grid.best_estimator_"
   ]
  },
  {
   "cell_type": "code",
   "execution_count": 15,
   "metadata": {},
   "outputs": [],
   "source": [
    "ls = Lasso()\n",
    "rd = Ridge()\n",
    "en = ElasticNet()\n",
    "br = BayesianRidge()\n",
    "dtr = DecisionTreeRegressor()\n",
    "svr = SVR()\n",
    "knn = KNeighborsRegressor()\n",
    "rf = RandomForestRegressor()\n",
    "ada = AdaBoostRegressor()\n",
    "gbrt = GradientBoostingRegressor()"
   ]
  },
  {
   "cell_type": "code",
   "execution_count": 16,
   "metadata": {},
   "outputs": [
    {
     "name": "stdout",
     "output_type": "stream",
     "text": [
      "Lasso(alpha=1, copy_X=True, fit_intercept=True, max_iter=1, normalize=False,\n",
      "   positive=False, precompute=False, random_state=None, selection='cyclic',\n",
      "   tol=0.0001, warm_start=False)\n",
      "共计耗时 0.6423816550000003\n",
      "\n",
      "Ridge(alpha=110, copy_X=True, fit_intercept=True, max_iter=None,\n",
      "   normalize=False, random_state=None, solver='auto', tol=0.001)\n",
      "共计耗时 0.22937085499999998\n",
      "\n",
      "ElasticNet(alpha=1.0, copy_X=True, fit_intercept=True, l1_ratio=1,\n",
      "      max_iter=100, normalize=False, positive=False, precompute=False,\n",
      "      random_state=None, selection='cyclic', tol=0.0001, warm_start=False)\n",
      "共计耗时 0.5691577999999997\n",
      "\n",
      "BayesianRidge(alpha_1=1e-06, alpha_2=1e-06, compute_score=False, copy_X=True,\n",
      "       fit_intercept=True, lambda_1=1e-06, lambda_2=1e-06, n_iter=300,\n",
      "       normalize=False, tol=0.001, verbose=False)\n",
      "共计耗时 0.40638761499999987\n",
      "\n",
      "DecisionTreeRegressor(criterion='mse', max_depth=None, max_features=None,\n",
      "           max_leaf_nodes=None, min_impurity_decrease=0.0,\n",
      "           min_impurity_split=None, min_samples_leaf=1,\n",
      "           min_samples_split=10, min_weight_fraction_leaf=0.0,\n",
      "           presort=False, random_state=None, splitter='best')\n",
      "共计耗时 1.0550375829999998\n",
      "\n",
      "SVR(C=1.0, cache_size=100, coef0=0.0, degree=1, epsilon=0.1,\n",
      "  gamma='auto_deprecated', kernel='rbf', max_iter=-1, shrinking=True,\n",
      "  tol=0.001, verbose=False)\n",
      "共计耗时 9.057937278\n",
      "\n",
      "KNeighborsRegressor(algorithm='auto', leaf_size=30, metric='minkowski',\n",
      "          metric_params=None, n_jobs=None, n_neighbors=19, p=2,\n",
      "          weights='uniform')\n",
      "共计耗时 181.89551212\n",
      "\n",
      "RandomForestRegressor(bootstrap=True, criterion='mse', max_depth=None,\n",
      "           max_features='auto', max_leaf_nodes=None,\n",
      "           min_impurity_decrease=0.0, min_impurity_split=None,\n",
      "           min_samples_leaf=1, min_samples_split=2,\n",
      "           min_weight_fraction_leaf=0.0, n_estimators=15, n_jobs=None,\n",
      "           oob_score=False, random_state=None, verbose=0, warm_start=False)\n",
      "共计耗时 7.704618423999989\n",
      "\n",
      "AdaBoostRegressor(base_estimator=None, learning_rate=1.0, loss='linear',\n",
      "         n_estimators=60, random_state=None)\n",
      "共计耗时 6.120413637000013\n",
      "\n",
      "共计耗时 19.46974643599998\n",
      "GradientBoostingRegressor(alpha=0.9, criterion='friedman_mse', init=None,\n",
      "             learning_rate=0.1, loss='ls', max_depth=3, max_features=None,\n",
      "             max_leaf_nodes=None, min_impurity_decrease=0.0,\n",
      "             min_impurity_split=None, min_samples_leaf=1,\n",
      "             min_samples_split=2, min_weight_fraction_leaf=0.0,\n",
      "             n_estimators=80, n_iter_no_change=None, presort='auto',\n",
      "             random_state=None, subsample=1.0, tol=0.0001,\n",
      "             validation_fraction=0.1, verbose=0, warm_start=False)\n"
     ]
    }
   ],
   "source": [
    "# 训练各种模型\n",
    "start = clock()\n",
    "ls = fit_model_shuffle(X_train, y_train, ls, {'max_iter':[1, 10, 100], 'alpha':[0.01, 0.1, 1]})\n",
    "end = clock()\n",
    "delta = end - start\n",
    "print(ls)\n",
    "print('共计耗时', delta)\n",
    "print()\n",
    "\n",
    "start = clock()\n",
    "rd = fit_model_shuffle(X_train, y_train, rd, {'alpha':[100, 110, 120, 130]})\n",
    "end = clock()\n",
    "delta = end - start\n",
    "print(rd)\n",
    "print('共计耗时', delta)\n",
    "print()\n",
    "\n",
    "start = clock()\n",
    "en = fit_model_shuffle(X_train, y_train, en,{'l1_ratio':[0.9, 0.95, 1], 'max_iter':[100, 300, 500]})\n",
    "end = clock()\n",
    "delta = end - start\n",
    "print(en)\n",
    "print('共计耗时', delta)\n",
    "print()\n",
    "\n",
    "start = clock()\n",
    "br = fit_model_shuffle(X_train, y_train, br, {'alpha_1':[0.000001, 0.0001, 0.001, 0.01], 'alpha_1':[0.000001, 0.0001, 0.001, 0.01]})\n",
    "end = clock()\n",
    "delta = end - start\n",
    "print(br)\n",
    "print('共计耗时', delta)\n",
    "print()\n",
    "\n",
    "start = clock()\n",
    "dtr = fit_model_shuffle(X_train, y_train, dtr, {'min_samples_split':[2, 4, 6, 8, 10]})\n",
    "end = clock()\n",
    "delta = end - start\n",
    "print(dtr)\n",
    "print('共计耗时', delta)\n",
    "print()\n",
    "\n",
    "start = clock()\n",
    "svr = fit_model_shuffle(X_train, y_train, svr, {'degree':[1, 2, 3, 4, 5], 'cache_size':[100, 200, 300]})\n",
    "end = clock()\n",
    "delta = end - start\n",
    "print(svr)\n",
    "print('共计耗时', delta)\n",
    "print()\n",
    "\n",
    "start = clock()\n",
    "knn = fit_model_shuffle(X_train, y_train, knn, {'n_neighbors':range(1, 20)})\n",
    "end = clock()\n",
    "delta = end - start\n",
    "print(knn)\n",
    "print('共计耗时', delta)\n",
    "print()\n",
    "\n",
    "start = clock()\n",
    "rf = fit_model_shuffle(X_train, y_train, rf, {'n_estimators':[15, 20, 25]})\n",
    "end = clock()\n",
    "delta = end - start\n",
    "print(rf)\n",
    "print('共计耗时', delta)\n",
    "print()\n",
    "\n",
    "start = clock()\n",
    "ada = fit_model_shuffle(X_train, y_train, ada, {'n_estimators':[40, 50, 60]})\n",
    "end = clock()\n",
    "delta = end - start\n",
    "print(ada)\n",
    "print('共计耗时', delta)\n",
    "print()\n",
    "\n",
    "start = clock()\n",
    "gbrt = fit_model_shuffle(X_train, y_train, gbrt, {'n_estimators':[80, 100, 120]})\n",
    "end = clock()\n",
    "delta = end - start\n",
    "print('共计耗时', delta)\n",
    "print(gbrt)"
   ]
  },
  {
   "cell_type": "code",
   "execution_count": 17,
   "metadata": {},
   "outputs": [],
   "source": [
    "# 各模型比较\n",
    "\n",
    "def min(X, y, regs):\n",
    "    maes = dict()\n",
    "    n = 0\n",
    "    for reg in regs:\n",
    "        mae = performance_metric(y, reg.predict(X))\n",
    "        lists = ['ls', 'rd', 'en', 'br', 'dtr', 'svr', 'knn', 'rf', 'ada', 'gbrt']\n",
    "        maes[lists[n]] = mae\n",
    "        n += 1\n",
    "    f = zip(maes.values(), maes.keys())\n",
    "    return sorted(f)"
   ]
  },
  {
   "cell_type": "code",
   "execution_count": 18,
   "metadata": {},
   "outputs": [
    {
     "name": "stdout",
     "output_type": "stream",
     "text": [
      "最优模型是:rf, 均方差为:0.014576846276191751\n"
     ]
    }
   ],
   "source": [
    "lists = [ls, rd, en, br, dtr, svr, knn, rf, ada, gbrt]\n",
    "print('最优模型是:{}, 均方差为:{}'.format(min(X_test, y_test, lists)[0][1], min(X_test, y_test, lists)[0][0]))"
   ]
  },
  {
   "cell_type": "code",
   "execution_count": null,
   "metadata": {},
   "outputs": [],
   "source": []
  }
 ],
 "metadata": {
  "kernelspec": {
   "display_name": "Python 3",
   "language": "python",
   "name": "python3"
  },
  "language_info": {
   "codemirror_mode": {
    "name": "ipython",
    "version": 3
   },
   "file_extension": ".py",
   "mimetype": "text/x-python",
   "name": "python",
   "nbconvert_exporter": "python",
   "pygments_lexer": "ipython3",
   "version": "3.7.0"
  }
 },
 "nbformat": 4,
 "nbformat_minor": 2
}
